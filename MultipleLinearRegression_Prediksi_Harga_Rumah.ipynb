{
  "nbformat": 4,
  "nbformat_minor": 0,
  "metadata": {
    "colab": {
      "provenance": [],
      "authorship_tag": "ABX9TyP6DVs9P0ni8d/R9lkW220L"
    },
    "kernelspec": {
      "name": "python3",
      "display_name": "Python 3"
    },
    "language_info": {
      "name": "python"
    }
  },
  "cells": [
    {
      "cell_type": "code",
      "execution_count": 114,
      "metadata": {
        "colab": {
          "base_uri": "https://localhost:8080/",
          "height": 206
        },
        "id": "sevZFZuzki8Z",
        "outputId": "721aaef3-b8ef-4da2-f7c7-de94d7e3071d"
      },
      "outputs": [
        {
          "output_type": "execute_result",
          "data": {
            "text/plain": [
              "                                          NAMA RUMAH       HARGA   LB   LT  \\\n",
              "0  Rumah Murah Hook Tebet Timur, Tebet, Jakarta S...  3800000000  220  220   \n",
              "1  Rumah Modern di Tebet dekat Stasiun, Tebet, Ja...  4600000000  180  137   \n",
              "2  Rumah Mewah 2 Lantai Hanya 3 Menit Ke Tebet, T...  3000000000  267  250   \n",
              "3           Rumah Baru Tebet, Tebet, Jakarta Selatan   430000000   40   25   \n",
              "4  Rumah Bagus Tebet komp Gudang Peluru lt 350m, ...  9000000000  400  355   \n",
              "\n",
              "   KT  KM  GRS  \n",
              "0   3   3    0  \n",
              "1   4   3    2  \n",
              "2   4   4    4  \n",
              "3   2   2    0  \n",
              "4   6   5    3  "
            ],
            "text/html": [
              "\n",
              "  <div id=\"df-4a408e3b-33e5-4200-92d7-2af537aa4800\">\n",
              "    <div class=\"colab-df-container\">\n",
              "      <div>\n",
              "<style scoped>\n",
              "    .dataframe tbody tr th:only-of-type {\n",
              "        vertical-align: middle;\n",
              "    }\n",
              "\n",
              "    .dataframe tbody tr th {\n",
              "        vertical-align: top;\n",
              "    }\n",
              "\n",
              "    .dataframe thead th {\n",
              "        text-align: right;\n",
              "    }\n",
              "</style>\n",
              "<table border=\"1\" class=\"dataframe\">\n",
              "  <thead>\n",
              "    <tr style=\"text-align: right;\">\n",
              "      <th></th>\n",
              "      <th>NAMA RUMAH</th>\n",
              "      <th>HARGA</th>\n",
              "      <th>LB</th>\n",
              "      <th>LT</th>\n",
              "      <th>KT</th>\n",
              "      <th>KM</th>\n",
              "      <th>GRS</th>\n",
              "    </tr>\n",
              "  </thead>\n",
              "  <tbody>\n",
              "    <tr>\n",
              "      <th>0</th>\n",
              "      <td>Rumah Murah Hook Tebet Timur, Tebet, Jakarta S...</td>\n",
              "      <td>3800000000</td>\n",
              "      <td>220</td>\n",
              "      <td>220</td>\n",
              "      <td>3</td>\n",
              "      <td>3</td>\n",
              "      <td>0</td>\n",
              "    </tr>\n",
              "    <tr>\n",
              "      <th>1</th>\n",
              "      <td>Rumah Modern di Tebet dekat Stasiun, Tebet, Ja...</td>\n",
              "      <td>4600000000</td>\n",
              "      <td>180</td>\n",
              "      <td>137</td>\n",
              "      <td>4</td>\n",
              "      <td>3</td>\n",
              "      <td>2</td>\n",
              "    </tr>\n",
              "    <tr>\n",
              "      <th>2</th>\n",
              "      <td>Rumah Mewah 2 Lantai Hanya 3 Menit Ke Tebet, T...</td>\n",
              "      <td>3000000000</td>\n",
              "      <td>267</td>\n",
              "      <td>250</td>\n",
              "      <td>4</td>\n",
              "      <td>4</td>\n",
              "      <td>4</td>\n",
              "    </tr>\n",
              "    <tr>\n",
              "      <th>3</th>\n",
              "      <td>Rumah Baru Tebet, Tebet, Jakarta Selatan</td>\n",
              "      <td>430000000</td>\n",
              "      <td>40</td>\n",
              "      <td>25</td>\n",
              "      <td>2</td>\n",
              "      <td>2</td>\n",
              "      <td>0</td>\n",
              "    </tr>\n",
              "    <tr>\n",
              "      <th>4</th>\n",
              "      <td>Rumah Bagus Tebet komp Gudang Peluru lt 350m, ...</td>\n",
              "      <td>9000000000</td>\n",
              "      <td>400</td>\n",
              "      <td>355</td>\n",
              "      <td>6</td>\n",
              "      <td>5</td>\n",
              "      <td>3</td>\n",
              "    </tr>\n",
              "  </tbody>\n",
              "</table>\n",
              "</div>\n",
              "      <button class=\"colab-df-convert\" onclick=\"convertToInteractive('df-4a408e3b-33e5-4200-92d7-2af537aa4800')\"\n",
              "              title=\"Convert this dataframe to an interactive table.\"\n",
              "              style=\"display:none;\">\n",
              "        \n",
              "  <svg xmlns=\"http://www.w3.org/2000/svg\" height=\"24px\"viewBox=\"0 0 24 24\"\n",
              "       width=\"24px\">\n",
              "    <path d=\"M0 0h24v24H0V0z\" fill=\"none\"/>\n",
              "    <path d=\"M18.56 5.44l.94 2.06.94-2.06 2.06-.94-2.06-.94-.94-2.06-.94 2.06-2.06.94zm-11 1L8.5 8.5l.94-2.06 2.06-.94-2.06-.94L8.5 2.5l-.94 2.06-2.06.94zm10 10l.94 2.06.94-2.06 2.06-.94-2.06-.94-.94-2.06-.94 2.06-2.06.94z\"/><path d=\"M17.41 7.96l-1.37-1.37c-.4-.4-.92-.59-1.43-.59-.52 0-1.04.2-1.43.59L10.3 9.45l-7.72 7.72c-.78.78-.78 2.05 0 2.83L4 21.41c.39.39.9.59 1.41.59.51 0 1.02-.2 1.41-.59l7.78-7.78 2.81-2.81c.8-.78.8-2.07 0-2.86zM5.41 20L4 18.59l7.72-7.72 1.47 1.35L5.41 20z\"/>\n",
              "  </svg>\n",
              "      </button>\n",
              "      \n",
              "  <style>\n",
              "    .colab-df-container {\n",
              "      display:flex;\n",
              "      flex-wrap:wrap;\n",
              "      gap: 12px;\n",
              "    }\n",
              "\n",
              "    .colab-df-convert {\n",
              "      background-color: #E8F0FE;\n",
              "      border: none;\n",
              "      border-radius: 50%;\n",
              "      cursor: pointer;\n",
              "      display: none;\n",
              "      fill: #1967D2;\n",
              "      height: 32px;\n",
              "      padding: 0 0 0 0;\n",
              "      width: 32px;\n",
              "    }\n",
              "\n",
              "    .colab-df-convert:hover {\n",
              "      background-color: #E2EBFA;\n",
              "      box-shadow: 0px 1px 2px rgba(60, 64, 67, 0.3), 0px 1px 3px 1px rgba(60, 64, 67, 0.15);\n",
              "      fill: #174EA6;\n",
              "    }\n",
              "\n",
              "    [theme=dark] .colab-df-convert {\n",
              "      background-color: #3B4455;\n",
              "      fill: #D2E3FC;\n",
              "    }\n",
              "\n",
              "    [theme=dark] .colab-df-convert:hover {\n",
              "      background-color: #434B5C;\n",
              "      box-shadow: 0px 1px 3px 1px rgba(0, 0, 0, 0.15);\n",
              "      filter: drop-shadow(0px 1px 2px rgba(0, 0, 0, 0.3));\n",
              "      fill: #FFFFFF;\n",
              "    }\n",
              "  </style>\n",
              "\n",
              "      <script>\n",
              "        const buttonEl =\n",
              "          document.querySelector('#df-4a408e3b-33e5-4200-92d7-2af537aa4800 button.colab-df-convert');\n",
              "        buttonEl.style.display =\n",
              "          google.colab.kernel.accessAllowed ? 'block' : 'none';\n",
              "\n",
              "        async function convertToInteractive(key) {\n",
              "          const element = document.querySelector('#df-4a408e3b-33e5-4200-92d7-2af537aa4800');\n",
              "          const dataTable =\n",
              "            await google.colab.kernel.invokeFunction('convertToInteractive',\n",
              "                                                     [key], {});\n",
              "          if (!dataTable) return;\n",
              "\n",
              "          const docLinkHtml = 'Like what you see? Visit the ' +\n",
              "            '<a target=\"_blank\" href=https://colab.research.google.com/notebooks/data_table.ipynb>data table notebook</a>'\n",
              "            + ' to learn more about interactive tables.';\n",
              "          element.innerHTML = '';\n",
              "          dataTable['output_type'] = 'display_data';\n",
              "          await google.colab.output.renderOutput(dataTable, element);\n",
              "          const docLink = document.createElement('div');\n",
              "          docLink.innerHTML = docLinkHtml;\n",
              "          element.appendChild(docLink);\n",
              "        }\n",
              "      </script>\n",
              "    </div>\n",
              "  </div>\n",
              "  "
            ]
          },
          "metadata": {},
          "execution_count": 114
        }
      ],
      "source": [
        "#import library\n",
        "import pandas as pd\n",
        "import numpy as np\n",
        "from sklearn.linear_model import LinearRegression\n",
        "from sklearn.metrics import r2_score, mean_squared_error, mean_absolute_error\n",
        "from sklearn.model_selection import train_test_split\n",
        "import matplotlib.pyplot as plt\n",
        "import seaborn as sns\n",
        "\n",
        "#Akses dan membaca Data\n",
        "data = pd.read_excel('data_rumah.xlsx')\n",
        "\n",
        "df = data.drop(['NO'], axis=1)\n",
        "\n",
        "df.head()"
      ]
    },
    {
      "cell_type": "markdown",
      "source": [
        "**Fitur dalam Dataset data_rumah**\n",
        "1. NO : nomor data.\n",
        "2. NAMA RUMAH : title rumah.\n",
        "3. HARGA : harga dari rumah.\n",
        "4. LB : jumlah luas bangunan.\n",
        "5. LT : jumlah luas tanah.\n",
        "6. KT : jumlah kamar tidur.\n",
        "7. KM : jumlah kamar mandi.\n",
        "8. GRS : jumlah kapasitas mobil dalam garasi."
      ],
      "metadata": {
        "id": "o7ep4Fnsk369"
      }
    },
    {
      "cell_type": "code",
      "source": [
        "df.info()"
      ],
      "metadata": {
        "colab": {
          "base_uri": "https://localhost:8080/"
        },
        "id": "9iweZsutkxN0",
        "outputId": "28abc50f-51b7-4863-a4f7-e9e0d5d7bdca"
      },
      "execution_count": 115,
      "outputs": [
        {
          "output_type": "stream",
          "name": "stdout",
          "text": [
            "<class 'pandas.core.frame.DataFrame'>\n",
            "RangeIndex: 1010 entries, 0 to 1009\n",
            "Data columns (total 7 columns):\n",
            " #   Column      Non-Null Count  Dtype \n",
            "---  ------      --------------  ----- \n",
            " 0   NAMA RUMAH  1010 non-null   object\n",
            " 1   HARGA       1010 non-null   int64 \n",
            " 2   LB          1010 non-null   int64 \n",
            " 3   LT          1010 non-null   int64 \n",
            " 4   KT          1010 non-null   int64 \n",
            " 5   KM          1010 non-null   int64 \n",
            " 6   GRS         1010 non-null   int64 \n",
            "dtypes: int64(6), object(1)\n",
            "memory usage: 55.4+ KB\n"
          ]
        }
      ]
    },
    {
      "cell_type": "code",
      "source": [
        "df.describe()"
      ],
      "metadata": {
        "colab": {
          "base_uri": "https://localhost:8080/",
          "height": 300
        },
        "id": "qwa2lqQlmHcY",
        "outputId": "210b883c-3a08-4f0a-ebc7-06c0fd43a2bc"
      },
      "execution_count": 116,
      "outputs": [
        {
          "output_type": "execute_result",
          "data": {
            "text/plain": [
              "               HARGA      LB      LT      KT      KM     GRS\n",
              "count        1010.00 1010.00 1010.00 1010.00 1010.00 1010.00\n",
              "mean   7628987019.01  276.54  237.43    4.67    3.61    1.92\n",
              "std    7340945790.22  177.86  179.96    1.57    1.42    1.51\n",
              "min     430000000.00   40.00   25.00    2.00    1.00    0.00\n",
              "25%    3262500000.00  150.00  130.00    4.00    3.00    1.00\n",
              "50%    5000000000.00  216.50  165.00    4.00    3.00    2.00\n",
              "75%    9000000000.00  350.00  290.00    5.00    4.00    2.00\n",
              "max   65000000000.00 1126.00 1400.00   10.00   10.00   10.00"
            ],
            "text/html": [
              "\n",
              "  <div id=\"df-826dde0e-c79b-4c9d-973a-0fcd21935c05\">\n",
              "    <div class=\"colab-df-container\">\n",
              "      <div>\n",
              "<style scoped>\n",
              "    .dataframe tbody tr th:only-of-type {\n",
              "        vertical-align: middle;\n",
              "    }\n",
              "\n",
              "    .dataframe tbody tr th {\n",
              "        vertical-align: top;\n",
              "    }\n",
              "\n",
              "    .dataframe thead th {\n",
              "        text-align: right;\n",
              "    }\n",
              "</style>\n",
              "<table border=\"1\" class=\"dataframe\">\n",
              "  <thead>\n",
              "    <tr style=\"text-align: right;\">\n",
              "      <th></th>\n",
              "      <th>HARGA</th>\n",
              "      <th>LB</th>\n",
              "      <th>LT</th>\n",
              "      <th>KT</th>\n",
              "      <th>KM</th>\n",
              "      <th>GRS</th>\n",
              "    </tr>\n",
              "  </thead>\n",
              "  <tbody>\n",
              "    <tr>\n",
              "      <th>count</th>\n",
              "      <td>1010.00</td>\n",
              "      <td>1010.00</td>\n",
              "      <td>1010.00</td>\n",
              "      <td>1010.00</td>\n",
              "      <td>1010.00</td>\n",
              "      <td>1010.00</td>\n",
              "    </tr>\n",
              "    <tr>\n",
              "      <th>mean</th>\n",
              "      <td>7628987019.01</td>\n",
              "      <td>276.54</td>\n",
              "      <td>237.43</td>\n",
              "      <td>4.67</td>\n",
              "      <td>3.61</td>\n",
              "      <td>1.92</td>\n",
              "    </tr>\n",
              "    <tr>\n",
              "      <th>std</th>\n",
              "      <td>7340945790.22</td>\n",
              "      <td>177.86</td>\n",
              "      <td>179.96</td>\n",
              "      <td>1.57</td>\n",
              "      <td>1.42</td>\n",
              "      <td>1.51</td>\n",
              "    </tr>\n",
              "    <tr>\n",
              "      <th>min</th>\n",
              "      <td>430000000.00</td>\n",
              "      <td>40.00</td>\n",
              "      <td>25.00</td>\n",
              "      <td>2.00</td>\n",
              "      <td>1.00</td>\n",
              "      <td>0.00</td>\n",
              "    </tr>\n",
              "    <tr>\n",
              "      <th>25%</th>\n",
              "      <td>3262500000.00</td>\n",
              "      <td>150.00</td>\n",
              "      <td>130.00</td>\n",
              "      <td>4.00</td>\n",
              "      <td>3.00</td>\n",
              "      <td>1.00</td>\n",
              "    </tr>\n",
              "    <tr>\n",
              "      <th>50%</th>\n",
              "      <td>5000000000.00</td>\n",
              "      <td>216.50</td>\n",
              "      <td>165.00</td>\n",
              "      <td>4.00</td>\n",
              "      <td>3.00</td>\n",
              "      <td>2.00</td>\n",
              "    </tr>\n",
              "    <tr>\n",
              "      <th>75%</th>\n",
              "      <td>9000000000.00</td>\n",
              "      <td>350.00</td>\n",
              "      <td>290.00</td>\n",
              "      <td>5.00</td>\n",
              "      <td>4.00</td>\n",
              "      <td>2.00</td>\n",
              "    </tr>\n",
              "    <tr>\n",
              "      <th>max</th>\n",
              "      <td>65000000000.00</td>\n",
              "      <td>1126.00</td>\n",
              "      <td>1400.00</td>\n",
              "      <td>10.00</td>\n",
              "      <td>10.00</td>\n",
              "      <td>10.00</td>\n",
              "    </tr>\n",
              "  </tbody>\n",
              "</table>\n",
              "</div>\n",
              "      <button class=\"colab-df-convert\" onclick=\"convertToInteractive('df-826dde0e-c79b-4c9d-973a-0fcd21935c05')\"\n",
              "              title=\"Convert this dataframe to an interactive table.\"\n",
              "              style=\"display:none;\">\n",
              "        \n",
              "  <svg xmlns=\"http://www.w3.org/2000/svg\" height=\"24px\"viewBox=\"0 0 24 24\"\n",
              "       width=\"24px\">\n",
              "    <path d=\"M0 0h24v24H0V0z\" fill=\"none\"/>\n",
              "    <path d=\"M18.56 5.44l.94 2.06.94-2.06 2.06-.94-2.06-.94-.94-2.06-.94 2.06-2.06.94zm-11 1L8.5 8.5l.94-2.06 2.06-.94-2.06-.94L8.5 2.5l-.94 2.06-2.06.94zm10 10l.94 2.06.94-2.06 2.06-.94-2.06-.94-.94-2.06-.94 2.06-2.06.94z\"/><path d=\"M17.41 7.96l-1.37-1.37c-.4-.4-.92-.59-1.43-.59-.52 0-1.04.2-1.43.59L10.3 9.45l-7.72 7.72c-.78.78-.78 2.05 0 2.83L4 21.41c.39.39.9.59 1.41.59.51 0 1.02-.2 1.41-.59l7.78-7.78 2.81-2.81c.8-.78.8-2.07 0-2.86zM5.41 20L4 18.59l7.72-7.72 1.47 1.35L5.41 20z\"/>\n",
              "  </svg>\n",
              "      </button>\n",
              "      \n",
              "  <style>\n",
              "    .colab-df-container {\n",
              "      display:flex;\n",
              "      flex-wrap:wrap;\n",
              "      gap: 12px;\n",
              "    }\n",
              "\n",
              "    .colab-df-convert {\n",
              "      background-color: #E8F0FE;\n",
              "      border: none;\n",
              "      border-radius: 50%;\n",
              "      cursor: pointer;\n",
              "      display: none;\n",
              "      fill: #1967D2;\n",
              "      height: 32px;\n",
              "      padding: 0 0 0 0;\n",
              "      width: 32px;\n",
              "    }\n",
              "\n",
              "    .colab-df-convert:hover {\n",
              "      background-color: #E2EBFA;\n",
              "      box-shadow: 0px 1px 2px rgba(60, 64, 67, 0.3), 0px 1px 3px 1px rgba(60, 64, 67, 0.15);\n",
              "      fill: #174EA6;\n",
              "    }\n",
              "\n",
              "    [theme=dark] .colab-df-convert {\n",
              "      background-color: #3B4455;\n",
              "      fill: #D2E3FC;\n",
              "    }\n",
              "\n",
              "    [theme=dark] .colab-df-convert:hover {\n",
              "      background-color: #434B5C;\n",
              "      box-shadow: 0px 1px 3px 1px rgba(0, 0, 0, 0.15);\n",
              "      filter: drop-shadow(0px 1px 2px rgba(0, 0, 0, 0.3));\n",
              "      fill: #FFFFFF;\n",
              "    }\n",
              "  </style>\n",
              "\n",
              "      <script>\n",
              "        const buttonEl =\n",
              "          document.querySelector('#df-826dde0e-c79b-4c9d-973a-0fcd21935c05 button.colab-df-convert');\n",
              "        buttonEl.style.display =\n",
              "          google.colab.kernel.accessAllowed ? 'block' : 'none';\n",
              "\n",
              "        async function convertToInteractive(key) {\n",
              "          const element = document.querySelector('#df-826dde0e-c79b-4c9d-973a-0fcd21935c05');\n",
              "          const dataTable =\n",
              "            await google.colab.kernel.invokeFunction('convertToInteractive',\n",
              "                                                     [key], {});\n",
              "          if (!dataTable) return;\n",
              "\n",
              "          const docLinkHtml = 'Like what you see? Visit the ' +\n",
              "            '<a target=\"_blank\" href=https://colab.research.google.com/notebooks/data_table.ipynb>data table notebook</a>'\n",
              "            + ' to learn more about interactive tables.';\n",
              "          element.innerHTML = '';\n",
              "          dataTable['output_type'] = 'display_data';\n",
              "          await google.colab.output.renderOutput(dataTable, element);\n",
              "          const docLink = document.createElement('div');\n",
              "          docLink.innerHTML = docLinkHtml;\n",
              "          element.appendChild(docLink);\n",
              "        }\n",
              "      </script>\n",
              "    </div>\n",
              "  </div>\n",
              "  "
            ]
          },
          "metadata": {},
          "execution_count": 116
        }
      ]
    },
    {
      "cell_type": "code",
      "source": [
        "#Visualisasi menggunakan Histogram Multipleplot\n",
        "\n",
        "plt.figure(figsize=(20,14))\n",
        "\n",
        "for i in enumerate(df.describe().columns):\n",
        "  plt.subplot(3,3, i[0]+1)\n",
        "  sns.histplot(df[i[1]])\n",
        "plt.show()"
      ],
      "metadata": {
        "colab": {
          "base_uri": "https://localhost:8080/",
          "height": 364
        },
        "id": "ZFjqAidUmV1q",
        "outputId": "51bb18ab-1db5-461c-b251-b4e43055328f"
      },
      "execution_count": 117,
      "outputs": [
        {
          "output_type": "display_data",
          "data": {
            "text/plain": [
              "<Figure size 2000x1400 with 6 Axes>"
            ],
            "image/png": "[encoded data removed]"
          },
          "metadata": {}
        }
      ]
    },
    {
      "cell_type": "code",
      "source": [
        "#Visualisasi menggunakan Heatmap untuk melihat korelasi antar variabel sekaligus\n",
        "\n",
        "sns.heatmap(df.corr(), annot=True, center=1, fmt='.2g')"
      ],
      "metadata": {
        "colab": {
          "base_uri": "https://localhost:8080/",
          "height": 509
        },
        "id": "ZUuBWlXwnHq4",
        "outputId": "c6866601-eaef-45c1-a29e-9f2ba0f2ac53"
      },
      "execution_count": 118,
      "outputs": [
        {
          "output_type": "stream",
          "name": "stderr",
          "text": [
            "<ipython-input-118-1586035a28d8>:3: FutureWarning: The default value of numeric_only in DataFrame.corr is deprecated. In a future version, it will default to False. Select only valid columns or specify the value of numeric_only to silence this warning.\n",
            "  sns.heatmap(df.corr(), annot=True, center=1, fmt='.2g')\n"
          ]
        },
        {
          "output_type": "execute_result",
          "data": {
            "text/plain": [
              "<Axes: >"
            ]
          },
          "metadata": {},
          "execution_count": 118
        },
        {
          "output_type": "display_data",
          "data": {
            "text/plain": [
              "<Figure size 640x480 with 2 Axes>"
            ],
            "image/png": "[encoded data removed]"
          },
          "metadata": {}
        }
      ]
    },
    {
      "cell_type": "code",
      "source": [
        "#Visualisasi ScatterPlot \n",
        "\n",
        "plt.scatter(df['LB'], df['HARGA'])\n",
        "plt.xlabel('Luas Bangunan')\n",
        "plt.ylabel('Harga Rumah')\n",
        "plt.title('Scatter Plot Luas Bangunan vs Harga Rumah')\n",
        "plt.show()"
      ],
      "metadata": {
        "colab": {
          "base_uri": "https://localhost:8080/",
          "height": 472
        },
        "id": "8FGgRCmat0W1",
        "outputId": "b8bfbfd5-d9c9-4f29-cc3e-12983f9a28a7"
      },
      "execution_count": 119,
      "outputs": [
        {
          "output_type": "display_data",
          "data": {
            "text/plain": [
              "<Figure size 640x480 with 1 Axes>"
            ],
            "image/png": "[encoded data removed]"
          },
          "metadata": {}
        }
      ]
    },
    {
      "cell_type": "code",
      "source": [
        "#Visualisasi ScatterPlot \n",
        "\n",
        "plt.scatter(df['LT'], df['HARGA'])\n",
        "plt.xlabel('Luas Tanah')\n",
        "plt.ylabel('Harga Rumah')\n",
        "plt.title('Scatter Plot Luas Tanah vs Harga Rumah')\n",
        "plt.show()"
      ],
      "metadata": {
        "colab": {
          "base_uri": "https://localhost:8080/",
          "height": 472
        },
        "id": "4bAaFn-duQ6O",
        "outputId": "6b612e4e-4d1d-4646-a851-9f1973614826"
      },
      "execution_count": 120,
      "outputs": [
        {
          "output_type": "display_data",
          "data": {
            "text/plain": [
              "<Figure size 640x480 with 1 Axes>"
            ],
            "image/png": "[encoded data removed]"
          },
          "metadata": {}
        }
      ]
    },
    {
      "cell_type": "code",
      "source": [
        "#Penentuan variabel X dan Y dari dataset\n",
        "X = df[['LB', 'LT', 'KT', 'KM', 'GRS']]\n",
        "y = df['HARGA']\n",
        "\n",
        "# Bagi dataset menjadi data latih dan data uji\n",
        "X_train, X_test, y_train, y_test = train_test_split(X, y, test_size=0.2, random_state=0)\n",
        "\n",
        "# Buat objek Linear Regression\n",
        "model = LinearRegression()\n",
        "\n",
        "# Fitting data latih\n",
        "model.fit(X_train, y_train)\n",
        "\n",
        "# Prediksi harga rumah\n",
        "y_pred = model.predict(X_test)\n"
      ],
      "metadata": {
        "id": "ffuALy99xYlW"
      },
      "execution_count": 121,
      "outputs": []
    },
    {
      "cell_type": "code",
      "source": [
        "# Evaluasi performa model\n",
        "print('R-square:', r2_score(y_test, y_pred))\n",
        "print('Mean Squared Error:', mean_squared_error(y_test, y_pred))\n",
        "print('Mean Absolute Error:', mean_absolute_error(y_test, y_pred))\n"
      ],
      "metadata": {
        "colab": {
          "base_uri": "https://localhost:8080/"
        },
        "id": "UPkSMDkP2BGD",
        "outputId": "537a7fa7-8026-44a8-c548-65c1ce123c93"
      },
      "execution_count": 122,
      "outputs": [
        {
          "output_type": "stream",
          "name": "stdout",
          "text": [
            "R-square: 0.6388704433330001\n",
            "Mean Squared Error: 2.6499374320313192e+19\n",
            "Mean Absolute Error: 2103677036.5481746\n"
          ]
        }
      ]
    },
    {
      "cell_type": "markdown",
      "source": [
        "R-Square adalah suatu ukuran statistik yang digunakan untuk mengevaluasi seberapa dekat model regresi dapat memperkirakan variabel terikat dari variabel bebas. R-Square memberikan informasi tentang persentase variasi dalam variabel terikat yang dapat dijelaskan oleh variabel bebas yang diikutsertakan dalam model regresi.\n",
        "\n",
        "**Nilai R-Square berkisar dari 0 hingga 1**, dan semakin tinggi nilai R-Square, semakin baik pula model regresi dalam menjelaskan variasi dalam variabel terikat. Sebaliknya, semakin rendah nilai R-Square, semakin buruk pula model regresi tersebut."
      ],
      "metadata": {
        "id": "snq4jXvs3ih0"
      }
    },
    {
      "cell_type": "code",
      "source": [
        "y_pred"
      ],
      "metadata": {
        "colab": {
          "base_uri": "https://localhost:8080/"
        },
        "id": "BQdIv5Ce7VAn",
        "outputId": "8006ec3c-78e6-462a-dc91-cd6e21964790"
      },
      "execution_count": 123,
      "outputs": [
        {
          "output_type": "execute_result",
          "data": {
            "text/plain": [
              "array([3.50026585e+09, 1.24508970e+10, 7.99299136e+09, 2.76835024e+09,\n",
              "       5.72846160e+08, 4.68951101e+09, 4.18824121e+09, 3.34587937e+09,\n",
              "       4.05514620e+09, 6.29031510e+09, 3.68395749e+09, 7.58142939e+09,\n",
              "       2.27525607e+10, 6.00900608e+09, 1.08841779e+10, 1.41611683e+10,\n",
              "       4.25367090e+09, 1.36182503e+09, 2.38621495e+10, 4.06291743e+09,\n",
              "       4.41047456e+09, 3.95482162e+09, 6.81427458e+09, 4.74165218e+09,\n",
              "       4.33066452e+09, 5.44492490e+09, 5.82177113e+09, 6.27391368e+09,\n",
              "       4.29336628e+09, 1.12896634e+10, 3.63931355e+09, 5.03368434e+09,\n",
              "       2.31169870e+10, 1.46280075e+10, 8.50556425e+09, 5.17347620e+09,\n",
              "       8.57187107e+09, 3.30022520e+09, 2.16951706e+10, 2.59176021e+09,\n",
              "       5.23781268e+09, 2.72501545e+09, 3.56252256e+09, 6.03507383e+09,\n",
              "       2.61159262e+09, 6.12813723e+09, 2.12174804e+09, 3.68812509e+09,\n",
              "       1.64067726e+10, 4.65930095e+09, 9.44738427e+09, 4.37573301e+09,\n",
              "       4.40993032e+09, 1.11047606e+10, 1.08315608e+10, 2.10571526e+09,\n",
              "       4.28115782e+09, 3.38521419e+09, 1.28063285e+10, 3.08349508e+09,\n",
              "       4.40733162e+09, 9.04595860e+09, 1.22823218e+10, 1.58767067e+10,\n",
              "       5.69509100e+09, 7.20259272e+09, 2.37185711e+09, 3.80382525e+09,\n",
              "       9.57717002e+09, 1.42096980e+09, 1.21936432e+10, 4.18824121e+09,\n",
              "       1.18084013e+10, 9.11096885e+09, 3.32964547e+09, 2.55741309e+09,\n",
              "       3.11291535e+09, 5.11906856e+09, 2.55597838e+09, 4.06837346e+09,\n",
              "       2.34354087e+09, 4.01183313e+09, 2.19325864e+09, 1.78076833e+10,\n",
              "       1.32831536e+10, 5.24095561e+09, 2.50601009e+10, 4.82635561e+09,\n",
              "       3.61848176e+09, 4.69150384e+09, 3.80597355e+09, 8.68919251e+09,\n",
              "       3.73175997e+09, 4.56910075e+09, 2.93747900e+09, 6.28919146e+09,\n",
              "       7.69930313e+09, 5.91209078e+09, 9.70006256e+09, 1.30397481e+10,\n",
              "       1.14015057e+10, 1.84596650e+10, 7.83091656e+09, 7.03289565e+09,\n",
              "       2.78127130e+09, 1.15916711e+10, 4.32626029e+10, 1.47660551e+10,\n",
              "       6.86387300e+09, 2.05388897e+10, 4.10681619e+09, 1.13554950e+10,\n",
              "       4.12360464e+09, 6.04172834e+09, 2.80954146e+09, 3.44632365e+09,\n",
              "       1.70866971e+10, 3.80799285e+09, 1.18084013e+10, 2.98846649e+09,\n",
              "       3.92195418e+09, 9.26110027e+09, 8.51572981e+09, 3.53034281e+09,\n",
              "       2.94531921e+10, 7.32531893e+09, 8.12179028e+09, 3.81113579e+09,\n",
              "       2.85876768e+09, 6.39831768e+09, 3.95498184e+09, 1.72514847e+10,\n",
              "       1.81719349e+09, 2.02585383e+09, 6.25669718e+09, 3.73524045e+09,\n",
              "       4.54516849e+09, 6.34162695e+09, 4.70977308e+09, 6.64929237e+09,\n",
              "       3.33092816e+09, 1.80912371e+09, 2.48416716e+09, 7.85074422e+09,\n",
              "       3.73109191e+09, 8.72674433e+09, 3.34374668e+09, 4.79106391e+09,\n",
              "       2.58858723e+09, 1.19011831e+10, 3.45268620e+09, 2.91762741e+09,\n",
              "       3.33179378e+09, 2.14673407e+10, 4.40632879e+09, 3.52621610e+09,\n",
              "       9.04437014e+09, 3.02645353e+09, 5.86115147e+09, 2.06004202e+10,\n",
              "       3.91670954e+09, 7.25484808e+09, 4.02472297e+09, 2.61522994e+10,\n",
              "       3.76748530e+09, 3.50306610e+09, 1.20082127e+10, 4.49560076e+09,\n",
              "       3.21926149e+09, 4.66519647e+09, 3.80571553e+09, 3.44729182e+09,\n",
              "       6.00641077e+09, 1.16256754e+10, 5.62453243e+09, 7.59505889e+09,\n",
              "       2.92829517e+10, 1.68866565e+10, 8.81095055e+09, 3.93542917e+09,\n",
              "       4.41262762e+09, 4.40303501e+09, 9.42356620e+09, 3.00036646e+09,\n",
              "       9.15308565e+09, 4.94020122e+09, 1.55028443e+10, 2.56118626e+09,\n",
              "       1.18084013e+10, 1.17635254e+09, 2.50155592e+09, 4.29073582e+09,\n",
              "       4.45842166e+09, 3.18551968e+09, 6.06614542e+09, 2.70832598e+09,\n",
              "       7.00360439e+09, 2.96730876e+09, 6.61834978e+09, 5.72155503e+09,\n",
              "       1.10458736e+09, 1.27971387e+10])"
            ]
          },
          "metadata": {},
          "execution_count": 123
        }
      ]
    },
    {
      "cell_type": "code",
      "source": [
        "#Uji Coba Prediksi Harga Rumah\n",
        "\n",
        "#Data baru\n",
        "data_rumah_baru = pd.DataFrame({ \n",
        "                                'LB': [190, 240, 115],\n",
        "                                'LT': [215, 251, 201],\n",
        "                                'KT': [1, 3, 2],\n",
        "                                'KM': [1, 2, 1],\n",
        "                                'GRS': [1, 3, 2],\n",
        "})\n",
        "\n",
        "data_rumah_baru"
      ],
      "metadata": {
        "colab": {
          "base_uri": "https://localhost:8080/",
          "height": 143
        },
        "id": "EXcYJlsI3spY",
        "outputId": "96ac8f0f-148d-4b42-fc5c-d176a937545b"
      },
      "execution_count": 124,
      "outputs": [
        {
          "output_type": "execute_result",
          "data": {
            "text/plain": [
              "    LB   LT  KT  KM  GRS\n",
              "0  190  215   1   1    1\n",
              "1  240  251   3   2    3\n",
              "2  115  201   2   1    2"
            ],
            "text/html": [
              "\n",
              "  <div id=\"df-9f3e54df-0af1-4234-9876-fcf55f45c1cc\">\n",
              "    <div class=\"colab-df-container\">\n",
              "      <div>\n",
              "<style scoped>\n",
              "    .dataframe tbody tr th:only-of-type {\n",
              "        vertical-align: middle;\n",
              "    }\n",
              "\n",
              "    .dataframe tbody tr th {\n",
              "        vertical-align: top;\n",
              "    }\n",
              "\n",
              "    .dataframe thead th {\n",
              "        text-align: right;\n",
              "    }\n",
              "</style>\n",
              "<table border=\"1\" class=\"dataframe\">\n",
              "  <thead>\n",
              "    <tr style=\"text-align: right;\">\n",
              "      <th></th>\n",
              "      <th>LB</th>\n",
              "      <th>LT</th>\n",
              "      <th>KT</th>\n",
              "      <th>KM</th>\n",
              "      <th>GRS</th>\n",
              "    </tr>\n",
              "  </thead>\n",
              "  <tbody>\n",
              "    <tr>\n",
              "      <th>0</th>\n",
              "      <td>190</td>\n",
              "      <td>215</td>\n",
              "      <td>1</td>\n",
              "      <td>1</td>\n",
              "      <td>1</td>\n",
              "    </tr>\n",
              "    <tr>\n",
              "      <th>1</th>\n",
              "      <td>240</td>\n",
              "      <td>251</td>\n",
              "      <td>3</td>\n",
              "      <td>2</td>\n",
              "      <td>3</td>\n",
              "    </tr>\n",
              "    <tr>\n",
              "      <th>2</th>\n",
              "      <td>115</td>\n",
              "      <td>201</td>\n",
              "      <td>2</td>\n",
              "      <td>1</td>\n",
              "      <td>2</td>\n",
              "    </tr>\n",
              "  </tbody>\n",
              "</table>\n",
              "</div>\n",
              "      <button class=\"colab-df-convert\" onclick=\"convertToInteractive('df-9f3e54df-0af1-4234-9876-fcf55f45c1cc')\"\n",
              "              title=\"Convert this dataframe to an interactive table.\"\n",
              "              style=\"display:none;\">\n",
              "        \n",
              "  <svg xmlns=\"http://www.w3.org/2000/svg\" height=\"24px\"viewBox=\"0 0 24 24\"\n",
              "       width=\"24px\">\n",
              "    <path d=\"M0 0h24v24H0V0z\" fill=\"none\"/>\n",
              "    <path d=\"M18.56 5.44l.94 2.06.94-2.06 2.06-.94-2.06-.94-.94-2.06-.94 2.06-2.06.94zm-11 1L8.5 8.5l.94-2.06 2.06-.94-2.06-.94L8.5 2.5l-.94 2.06-2.06.94zm10 10l.94 2.06.94-2.06 2.06-.94-2.06-.94-.94-2.06-.94 2.06-2.06.94z\"/><path d=\"M17.41 7.96l-1.37-1.37c-.4-.4-.92-.59-1.43-.59-.52 0-1.04.2-1.43.59L10.3 9.45l-7.72 7.72c-.78.78-.78 2.05 0 2.83L4 21.41c.39.39.9.59 1.41.59.51 0 1.02-.2 1.41-.59l7.78-7.78 2.81-2.81c.8-.78.8-2.07 0-2.86zM5.41 20L4 18.59l7.72-7.72 1.47 1.35L5.41 20z\"/>\n",
              "  </svg>\n",
              "      </button>\n",
              "      \n",
              "  <style>\n",
              "    .colab-df-container {\n",
              "      display:flex;\n",
              "      flex-wrap:wrap;\n",
              "      gap: 12px;\n",
              "    }\n",
              "\n",
              "    .colab-df-convert {\n",
              "      background-color: #E8F0FE;\n",
              "      border: none;\n",
              "      border-radius: 50%;\n",
              "      cursor: pointer;\n",
              "      display: none;\n",
              "      fill: #1967D2;\n",
              "      height: 32px;\n",
              "      padding: 0 0 0 0;\n",
              "      width: 32px;\n",
              "    }\n",
              "\n",
              "    .colab-df-convert:hover {\n",
              "      background-color: #E2EBFA;\n",
              "      box-shadow: 0px 1px 2px rgba(60, 64, 67, 0.3), 0px 1px 3px 1px rgba(60, 64, 67, 0.15);\n",
              "      fill: #174EA6;\n",
              "    }\n",
              "\n",
              "    [theme=dark] .colab-df-convert {\n",
              "      background-color: #3B4455;\n",
              "      fill: #D2E3FC;\n",
              "    }\n",
              "\n",
              "    [theme=dark] .colab-df-convert:hover {\n",
              "      background-color: #434B5C;\n",
              "      box-shadow: 0px 1px 3px 1px rgba(0, 0, 0, 0.15);\n",
              "      filter: drop-shadow(0px 1px 2px rgba(0, 0, 0, 0.3));\n",
              "      fill: #FFFFFF;\n",
              "    }\n",
              "  </style>\n",
              "\n",
              "      <script>\n",
              "        const buttonEl =\n",
              "          document.querySelector('#df-9f3e54df-0af1-4234-9876-fcf55f45c1cc button.colab-df-convert');\n",
              "        buttonEl.style.display =\n",
              "          google.colab.kernel.accessAllowed ? 'block' : 'none';\n",
              "\n",
              "        async function convertToInteractive(key) {\n",
              "          const element = document.querySelector('#df-9f3e54df-0af1-4234-9876-fcf55f45c1cc');\n",
              "          const dataTable =\n",
              "            await google.colab.kernel.invokeFunction('convertToInteractive',\n",
              "                                                     [key], {});\n",
              "          if (!dataTable) return;\n",
              "\n",
              "          const docLinkHtml = 'Like what you see? Visit the ' +\n",
              "            '<a target=\"_blank\" href=https://colab.research.google.com/notebooks/data_table.ipynb>data table notebook</a>'\n",
              "            + ' to learn more about interactive tables.';\n",
              "          element.innerHTML = '';\n",
              "          dataTable['output_type'] = 'display_data';\n",
              "          await google.colab.output.renderOutput(dataTable, element);\n",
              "          const docLink = document.createElement('div');\n",
              "          docLink.innerHTML = docLinkHtml;\n",
              "          element.appendChild(docLink);\n",
              "        }\n",
              "      </script>\n",
              "    </div>\n",
              "  </div>\n",
              "  "
            ]
          },
          "metadata": {},
          "execution_count": 124
        }
      ]
    },
    {
      "cell_type": "code",
      "source": [
        "prediksi_harga = model.predict(data_rumah_baru)\n",
        "prediksi_harga"
      ],
      "metadata": {
        "colab": {
          "base_uri": "https://localhost:8080/"
        },
        "id": "9i7d42Ao7i8g",
        "outputId": "c98f50dd-83cd-4af2-9598-b1679a508abe"
      },
      "execution_count": 125,
      "outputs": [
        {
          "output_type": "execute_result",
          "data": {
            "text/plain": [
              "array([6.92960675e+09, 8.07769243e+09, 5.42421126e+09])"
            ]
          },
          "metadata": {},
          "execution_count": 125
        }
      ]
    },
    {
      "cell_type": "code",
      "source": [
        "data_rumah_baru.insert(5, \"Harga Rumah\", prediksi_harga)\n",
        "\n",
        "# merubah nilai pada kolom Harga Rumah menjadi nilai yang mudah dibaca\n",
        "pd.options.display.float_format = '{:.2f}'.format\n",
        "data_rumah_baru [\"Harga Rumah\"] = data_rumah_baru [\"Harga Rumah\"]\n",
        "\n",
        "data_rumah_baru "
      ],
      "metadata": {
        "colab": {
          "base_uri": "https://localhost:8080/",
          "height": 143
        },
        "id": "_SIAgi7u7rCB",
        "outputId": "9ca7b627-ada8-44e3-e8e5-e2f2dae49913"
      },
      "execution_count": 126,
      "outputs": [
        {
          "output_type": "execute_result",
          "data": {
            "text/plain": [
              "    LB   LT  KT  KM  GRS   Harga Rumah\n",
              "0  190  215   1   1    1 6929606754.92\n",
              "1  240  251   3   2    3 8077692426.63\n",
              "2  115  201   2   1    2 5424211262.53"
            ],
            "text/html": [
              "\n",
              "  <div id=\"df-938cb71a-c41e-470a-aa42-780a309ddcf3\">\n",
              "    <div class=\"colab-df-container\">\n",
              "      <div>\n",
              "<style scoped>\n",
              "    .dataframe tbody tr th:only-of-type {\n",
              "        vertical-align: middle;\n",
              "    }\n",
              "\n",
              "    .dataframe tbody tr th {\n",
              "        vertical-align: top;\n",
              "    }\n",
              "\n",
              "    .dataframe thead th {\n",
              "        text-align: right;\n",
              "    }\n",
              "</style>\n",
              "<table border=\"1\" class=\"dataframe\">\n",
              "  <thead>\n",
              "    <tr style=\"text-align: right;\">\n",
              "      <th></th>\n",
              "      <th>LB</th>\n",
              "      <th>LT</th>\n",
              "      <th>KT</th>\n",
              "      <th>KM</th>\n",
              "      <th>GRS</th>\n",
              "      <th>Harga Rumah</th>\n",
              "    </tr>\n",
              "  </thead>\n",
              "  <tbody>\n",
              "    <tr>\n",
              "      <th>0</th>\n",
              "      <td>190</td>\n",
              "      <td>215</td>\n",
              "      <td>1</td>\n",
              "      <td>1</td>\n",
              "      <td>1</td>\n",
              "      <td>6929606754.92</td>\n",
              "    </tr>\n",
              "    <tr>\n",
              "      <th>1</th>\n",
              "      <td>240</td>\n",
              "      <td>251</td>\n",
              "      <td>3</td>\n",
              "      <td>2</td>\n",
              "      <td>3</td>\n",
              "      <td>8077692426.63</td>\n",
              "    </tr>\n",
              "    <tr>\n",
              "      <th>2</th>\n",
              "      <td>115</td>\n",
              "      <td>201</td>\n",
              "      <td>2</td>\n",
              "      <td>1</td>\n",
              "      <td>2</td>\n",
              "      <td>5424211262.53</td>\n",
              "    </tr>\n",
              "  </tbody>\n",
              "</table>\n",
              "</div>\n",
              "      <button class=\"colab-df-convert\" onclick=\"convertToInteractive('df-938cb71a-c41e-470a-aa42-780a309ddcf3')\"\n",
              "              title=\"Convert this dataframe to an interactive table.\"\n",
              "              style=\"display:none;\">\n",
              "        \n",
              "  <svg xmlns=\"http://www.w3.org/2000/svg\" height=\"24px\"viewBox=\"0 0 24 24\"\n",
              "       width=\"24px\">\n",
              "    <path d=\"M0 0h24v24H0V0z\" fill=\"none\"/>\n",
              "    <path d=\"M18.56 5.44l.94 2.06.94-2.06 2.06-.94-2.06-.94-.94-2.06-.94 2.06-2.06.94zm-11 1L8.5 8.5l.94-2.06 2.06-.94-2.06-.94L8.5 2.5l-.94 2.06-2.06.94zm10 10l.94 2.06.94-2.06 2.06-.94-2.06-.94-.94-2.06-.94 2.06-2.06.94z\"/><path d=\"M17.41 7.96l-1.37-1.37c-.4-.4-.92-.59-1.43-.59-.52 0-1.04.2-1.43.59L10.3 9.45l-7.72 7.72c-.78.78-.78 2.05 0 2.83L4 21.41c.39.39.9.59 1.41.59.51 0 1.02-.2 1.41-.59l7.78-7.78 2.81-2.81c.8-.78.8-2.07 0-2.86zM5.41 20L4 18.59l7.72-7.72 1.47 1.35L5.41 20z\"/>\n",
              "  </svg>\n",
              "      </button>\n",
              "      \n",
              "  <style>\n",
              "    .colab-df-container {\n",
              "      display:flex;\n",
              "      flex-wrap:wrap;\n",
              "      gap: 12px;\n",
              "    }\n",
              "\n",
              "    .colab-df-convert {\n",
              "      background-color: #E8F0FE;\n",
              "      border: none;\n",
              "      border-radius: 50%;\n",
              "      cursor: pointer;\n",
              "      display: none;\n",
              "      fill: #1967D2;\n",
              "      height: 32px;\n",
              "      padding: 0 0 0 0;\n",
              "      width: 32px;\n",
              "    }\n",
              "\n",
              "    .colab-df-convert:hover {\n",
              "      background-color: #E2EBFA;\n",
              "      box-shadow: 0px 1px 2px rgba(60, 64, 67, 0.3), 0px 1px 3px 1px rgba(60, 64, 67, 0.15);\n",
              "      fill: #174EA6;\n",
              "    }\n",
              "\n",
              "    [theme=dark] .colab-df-convert {\n",
              "      background-color: #3B4455;\n",
              "      fill: #D2E3FC;\n",
              "    }\n",
              "\n",
              "    [theme=dark] .colab-df-convert:hover {\n",
              "      background-color: #434B5C;\n",
              "      box-shadow: 0px 1px 3px 1px rgba(0, 0, 0, 0.15);\n",
              "      filter: drop-shadow(0px 1px 2px rgba(0, 0, 0, 0.3));\n",
              "      fill: #FFFFFF;\n",
              "    }\n",
              "  </style>\n",
              "\n",
              "      <script>\n",
              "        const buttonEl =\n",
              "          document.querySelector('#df-938cb71a-c41e-470a-aa42-780a309ddcf3 button.colab-df-convert');\n",
              "        buttonEl.style.display =\n",
              "          google.colab.kernel.accessAllowed ? 'block' : 'none';\n",
              "\n",
              "        async function convertToInteractive(key) {\n",
              "          const element = document.querySelector('#df-938cb71a-c41e-470a-aa42-780a309ddcf3');\n",
              "          const dataTable =\n",
              "            await google.colab.kernel.invokeFunction('convertToInteractive',\n",
              "                                                     [key], {});\n",
              "          if (!dataTable) return;\n",
              "\n",
              "          const docLinkHtml = 'Like what you see? Visit the ' +\n",
              "            '<a target=\"_blank\" href=https://colab.research.google.com/notebooks/data_table.ipynb>data table notebook</a>'\n",
              "            + ' to learn more about interactive tables.';\n",
              "          element.innerHTML = '';\n",
              "          dataTable['output_type'] = 'display_data';\n",
              "          await google.colab.output.renderOutput(dataTable, element);\n",
              "          const docLink = document.createElement('div');\n",
              "          docLink.innerHTML = docLinkHtml;\n",
              "          element.appendChild(docLink);\n",
              "        }\n",
              "      </script>\n",
              "    </div>\n",
              "  </div>\n",
              "  "
            ]
          },
          "metadata": {},
          "execution_count": 126
        }
      ]
    },
    {
      "cell_type": "markdown",
      "source": [
        "Nampak bahwa hasil training komputer pada data rumah berhasil, dan diuji coba pada data baru yang memberikan hasil prediksi harga rumah dari data yang diberikan "
      ],
      "metadata": {
        "id": "4ueFOQt0AtHl"
      }
    },
    {
      "cell_type": "markdown",
      "source": [
        "**DONE :)**"
      ],
      "metadata": {
        "id": "_5Th31r0BCN1"
      }
    }
  ]
}