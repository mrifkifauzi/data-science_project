{
  "nbformat": 4,
  "nbformat_minor": 0,
  "metadata": {
    "colab": {
      "provenance": [],
      "authorship_tag": "ABX9TyMWFw02zgivkBPkIePc8pQc"
    },
    "kernelspec": {
      "name": "python3",
      "display_name": "Python 3"
    },
    "language_info": {
      "name": "python"
    }
  },
  "cells": [
    {
      "cell_type": "code",
      "execution_count": 14,
      "metadata": {
        "colab": {
          "base_uri": "https://localhost:8080/"
        },
        "id": "eCLXZrwQiXFB",
        "outputId": "bc55e605-c3bf-4a6d-e6be-20998ef4793e"
      },
      "outputs": [
        {
          "output_type": "stream",
          "name": "stdout",
          "text": [
            "Masukkan berat badan Anda (dalam Kg) : 93\n",
            "Masukkan tinggi badan Anda (dalam cm) : 168\n",
            "Nilai BMI Anda adalah :  32.95\n",
            "Anda termasuk gemuk (obesitas)\n"
          ]
        }
      ],
      "source": [
        "# BMI (Body Mass Index) dihitung berdasarkan berat badan dibagi dengan kuadrat tinggi badan\n",
        "# BMI = weight/(height^2)\n",
        "\n",
        "weight = int(input(\"Masukkan berat badan Anda (dalam Kg) : \"))\n",
        "height = int(input(\"Masukkan tinggi badan Anda (dalam cm) : \"))\n",
        "\n",
        "BMI = weight/(height*height)*10000\n",
        "#nilai 10000 merupakan angka konversi dari centimeter ke meter (height yang dikuadratkan)\n",
        "\n",
        "print(\"Nilai BMI Anda adalah : \", round(BMI, 2))\n",
        "#round berfungsi untuk mengatur jumlah digit desimal yang diinginkan\n",
        "\n",
        "#menggunakan logika if, untuk menentukan kelompok/kategori berdasarkan BMI\n",
        "if BMI > 0:\n",
        "  if BMI < 17:\n",
        "    print(\"Anda termasuk Kurus, kekurangan berat badan tingkat berat\")\n",
        "  elif BMI <18.5:\n",
        "    print(\"Anda termasuk Kurus, kekurangan berat badan tingkat rendah\")\n",
        "  elif BMI < 25:\n",
        "    print(\"Berat badan Anda normal\")\n",
        "  elif BMI < 27: \n",
        "    print(\"Anda termasuk gemuk, kelebihan berat badan tingkat ringan\")\n",
        "  else: \n",
        "    print(\"Anda termasuk gemuk (obesitas)\")\n"
      ]
    },
    {
      "cell_type": "code",
      "source": [],
      "metadata": {
        "id": "Yzq3J82ZjJ8s"
      },
      "execution_count": null,
      "outputs": []
    }
  ]
}